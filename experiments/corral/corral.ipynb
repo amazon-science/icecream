{
 "cells": [
  {
   "attachments": {},
   "cell_type": "markdown",
   "metadata": {},
   "source": [
    "# Beyond Single Feature Importance with ICECREAM: CorrAL Experiment"
   ]
  },
  {
   "attachments": {},
   "cell_type": "markdown",
   "metadata": {},
   "source": [
    "In this experiment (see also the introduction to Section 5 of the paper), we apply ICECREAM to the CorrAL dataset by John et al. (1994).\n",
    "\n",
    "This dataset has six binary features (`A0`, `A1`, `B0`, `B1`, `Irrelevant`, and `Correlated`) and a target (`class`). The target is defined as \n",
    "```python\n",
    "class = (A0 and A1) or (B0 and B1)\n",
    "```\n",
    "whereas `Irrelevant` is random, and `Correlated` matches the target in 75% of the samples.\n",
    "\n",
    "The goal is to show whether ICECREAM is able to find the minimal coalitions of features which explain the target value. By definition of the dataset, these minimal explanations should never include any of the two features `Irrelevant` and `Correlated`. "
   ]
  },
  {
   "attachments": {},
   "cell_type": "markdown",
   "metadata": {},
   "source": [
    "## Setup"
   ]
  },
  {
   "cell_type": "code",
   "execution_count": null,
   "metadata": {},
   "outputs": [],
   "source": [
    "import pandas as pd\n",
    "from scipy.io.arff import loadarff \n",
    "\n",
    "from explain.explanations.data_explanation import find_minimal_coalitions"
   ]
  },
  {
   "attachments": {},
   "cell_type": "markdown",
   "metadata": {},
   "source": [
    "## Experiment"
   ]
  },
  {
   "cell_type": "code",
   "execution_count": null,
   "metadata": {},
   "outputs": [],
   "source": [
    "# Load data from file and convert to dataframe\n",
    "\n",
    "raw_data = loadarff('corral.arff')\n",
    "data = pd.DataFrame(raw_data[0]).applymap(lambda data: data.decode('ascii')).astype(int)\n",
    "\n",
    "# Show overview of data\n",
    "data"
   ]
  },
  {
   "cell_type": "code",
   "execution_count": null,
   "metadata": {},
   "outputs": [],
   "source": [
    "# Calculate minimum-size coalitions for all samples\n",
    "minimum_size_coalitions = [find_minimal_coalitions(data, sample, 'class') for _, sample in data.iterrows()]"
   ]
  },
  {
   "cell_type": "code",
   "execution_count": null,
   "metadata": {},
   "outputs": [],
   "source": [
    "# Output minimum-size coalitions (the features 'Irrelevant' and 'Correlated' should never appear in any coalition)\n",
    "minimum_size_coalitions"
   ]
  },
  {
   "cell_type": "code",
   "execution_count": null,
   "metadata": {},
   "outputs": [],
   "source": [
    "# Check the above claim by testing if all features in any coalition are within the subset {'A0', 'A1', 'B0', 'B1'}\n",
    "all(all(coalition.issubset({'A0', 'A1', 'B0', 'B1'}) for coalition in coalitions) for coalitions in minimum_size_coalitions)"
   ]
  }
 ],
 "metadata": {
  "kernelspec": {
   "display_name": "venv",
   "language": "python",
   "name": "python3"
  },
  "language_info": {
   "codemirror_mode": {
    "name": "ipython",
    "version": 3
   },
   "file_extension": ".py",
   "mimetype": "text/x-python",
   "name": "python",
   "nbconvert_exporter": "python",
   "pygments_lexer": "ipython3",
   "version": "3.9.17"
  },
  "orig_nbformat": 4
 },
 "nbformat": 4,
 "nbformat_minor": 2
}
